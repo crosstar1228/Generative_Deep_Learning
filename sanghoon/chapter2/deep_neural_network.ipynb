{
  "nbformat": 4,
  "nbformat_minor": 0,
  "metadata": {
    "colab": {
      "name": "deep_neural_network.ipynb",
      "private_outputs": true,
      "provenance": []
    },
    "kernelspec": {
      "name": "python3",
      "display_name": "Python 3"
    },
    "language_info": {
      "name": "python"
    },
    "accelerator": "GPU"
  },
  "cells": [
    {
      "cell_type": "code",
      "metadata": {
        "id": "qQQTXtXTsUNk"
      },
      "source": [
        "# 라이브러리 IMPORT\n",
        "import numpy as np\n",
        "import matplotlib.pyplot as plt\n",
        "\n",
        "from tensorflow.keras.layers import Input, Flatten, Dense, Conv2D\n",
        "from tensorflow.keras.models import Model\n",
        "from tensorflow.keras.optimizers import Adam\n",
        "from tensorflow.keras.utils import to_categorical\n",
        "from tensorflow.keras.datasets import cifar10"
      ],
      "execution_count": null,
      "outputs": []
    },
    {
      "cell_type": "code",
      "metadata": {
        "id": "KEJRiJYCsgHQ"
      },
      "source": [
        "(x_train, y_train), (x_test, y_test) = cifar10.load_data()"
      ],
      "execution_count": null,
      "outputs": []
    },
    {
      "cell_type": "code",
      "metadata": {
        "id": "Sg2zTYUVtVlq"
      },
      "source": [
        "# 분류할 클래스 개수\n",
        "NUM_CLASSES = 10"
      ],
      "execution_count": null,
      "outputs": []
    },
    {
      "cell_type": "code",
      "metadata": {
        "id": "y4c_vQBGtXtB"
      },
      "source": [
        "x_train = x_train.astype('float32') / 255.0\n",
        "x_test = x_test.astype('float32') / 255.0\n",
        "\n",
        "# one-hot-encoding\n",
        "y_train = to_categorical(y_train, NUM_CLASSES)\n",
        "y_test = to_categorical(y_test, NUM_CLASSES)"
      ],
      "execution_count": null,
      "outputs": []
    },
    {
      "cell_type": "markdown",
      "metadata": {
        "id": "J5L4mApuveKs"
      },
      "source": [
        "Cifar-10 데이터\n",
        "\n",
        "```\n",
        "- 이미지 픽셀값이 0에서 255 사이의 정수값으로 구성되며 \n",
        "- 입력값을 -1과 1사이의 범위로 정규화하기 위해 255를 나눔\n",
        "\n",
        "x_train: [50000, 32, 32, 3]\n",
        "x_test: [10000, 32, 32, 3]\n",
        "\n",
        "# 0 ~ 9 사이의 정수 레이블\n",
        "y_train: [50000, 10]\n",
        "y_test: [10000, 10]\n",
        "```"
      ]
    },
    {
      "cell_type": "code",
      "metadata": {
        "id": "UXfclG4uuIVk"
      },
      "source": [
        "print(x_train.shape, x_test.shape)"
      ],
      "execution_count": null,
      "outputs": []
    },
    {
      "cell_type": "code",
      "metadata": {
        "id": "i0cRVkpVuIsH"
      },
      "source": [
        "print(y_train.shape, y_test.shape)"
      ],
      "execution_count": null,
      "outputs": []
    },
    {
      "cell_type": "code",
      "metadata": {
        "id": "-6ZulfbXxG-l"
      },
      "source": [
        "input_layer = Input(shape=(32,32,3))\n",
        "\n",
        "x = Flatten()(input_layer)\n",
        "\n",
        "x = Dense(units=200, activation = 'relu')(x)\n",
        "x = Dense(units=150, activation = 'relu')(x)\n",
        "\n",
        "output_layer = Dense(units=10, activation = 'softmax')(x)\n",
        "model = Model(input_layer, output_layer)"
      ],
      "execution_count": null,
      "outputs": []
    },
    {
      "cell_type": "code",
      "metadata": {
        "id": "lR1iqdH61UJ7"
      },
      "source": [
        "optim = Adam(learning_rate=0.0005)\n",
        "model.compile(optimizer=optim,\n",
        "              loss='categorical_crossentropy',\n",
        "              metrics=['accuracy'])"
      ],
      "execution_count": null,
      "outputs": []
    },
    {
      "cell_type": "code",
      "metadata": {
        "id": "qv-1wNjM1WWD"
      },
      "source": [
        "model.fit(x_train,\n",
        "          y_train,\n",
        "          batch_size=32,\n",
        "          epochs=10,\n",
        "          shuffle=True)"
      ],
      "execution_count": null,
      "outputs": []
    },
    {
      "cell_type": "code",
      "metadata": {
        "id": "8kuIT-Q3F3LE"
      },
      "source": [
        "model.evaluate(x_test, y_test)"
      ],
      "execution_count": null,
      "outputs": []
    },
    {
      "cell_type": "code",
      "metadata": {
        "id": "rXX6TJPLGCus"
      },
      "source": [
        "CLASSES = np.array(['airplane', 'automobile','bird','cat','deer','dog','frog','horse','ship','truck'])"
      ],
      "execution_count": null,
      "outputs": []
    },
    {
      "cell_type": "code",
      "metadata": {
        "id": "AWR61UlzGMJg"
      },
      "source": [
        "preds = model.predict(x_test)\n",
        "preds_single = CLASSES[np.argmax(preds, axis=-1)]\n",
        "actual_single = CLASSES[np.argmax(y_test, axis=-1)]"
      ],
      "execution_count": null,
      "outputs": []
    },
    {
      "cell_type": "code",
      "metadata": {
        "id": "XWlrK4vqGeYG"
      },
      "source": [
        "n_to_show = 10\n",
        "indices = np.random.choice(range(len(x_test)), n_to_show)"
      ],
      "execution_count": null,
      "outputs": []
    },
    {
      "cell_type": "code",
      "metadata": {
        "id": "GalSXcBhGyC3"
      },
      "source": [
        "n_to_show = 10\n",
        "indices = np.random.choice(range(len(x_test)), n_to_show)\n",
        "\n",
        "fig = plt.figure(figsize=(15, 3))\n",
        "fig.subplots_adjust(hspace=0.4, wspace=0.4)\n",
        "\n",
        "for i, idx in enumerate(indices):\n",
        "    img = x_test[idx]\n",
        "    ax = fig.add_subplot(1, n_to_show, i+1)\n",
        "    ax.axis('off')\n",
        "    ax.text(0.5, -0.35, 'pred = ' + str(preds_single[idx]), fontsize=10, ha='center', transform=ax.transAxes) \n",
        "    ax.text(0.5, -0.7, 'actual = ' + str(actual_single[idx]), fontsize=10, ha='center', transform=ax.transAxes)\n",
        "    ax.imshow(img)"
      ],
      "execution_count": null,
      "outputs": []
    },
    {
      "cell_type": "code",
      "metadata": {
        "id": "MNqOXx78HHAP"
      },
      "source": [
        ""
      ],
      "execution_count": null,
      "outputs": []
    }
  ]
}